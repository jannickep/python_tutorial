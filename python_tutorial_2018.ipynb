{
 "cells": [
  {
   "cell_type": "markdown",
   "metadata": {},
   "source": [
    "# Python Tutorial \n",
    "Jannicke Pearkes, Physics 67, 2018"
   ]
  },
  {
   "cell_type": "markdown",
   "metadata": {},
   "source": [
    "## Introduction  \n",
    "\n",
    "This tutorial will go over the essentials that you will need to do your data analysis in python. We will go over the basics of programming in python, how to read in a data file, and fit a curve to data. \n",
    "\n",
    "Work through this tutorial at your own pace. Ideally, by the end of class you will have gotten to the challenge exercise, but everyone will be working at a different speed. That is okay! If you are new to programming, don't worry if this seems difficult at first, with a bit of effort you will get the hang of it. \n",
    "\n",
    "As always the TAs and course instructors are there to help you out. Ask questions during class and please come to office hours for help if you are having difficulties. You are also encouraged to ask your peers for help if you are stuck. "
   ]
  },
  {
   "cell_type": "markdown",
   "metadata": {},
   "source": [
    "## Installing Anaconda\n",
    "\n",
    "If you have not already done so, follow the following start up instructions to install Anaconda:\n",
    "\n",
    "https://docs.google.com/a/stanford.edu/document/d/1TSimC3ZxhPAhzQJDKWUibM6KgEMk8QIih5CwdG0WqhE/edit?usp=sharing\n",
    "\n",
    "Make sure that you install the python 2 version, not python 3. \n",
    "\n",
    "## Test\n",
    "\n",
    "The instructions for installing Anaconda explain how to open a notebook. Once you have opened your first notebook, type in the following command. Hit shift+enter, or press the play button to run the cell. "
   ]
  },
  {
   "cell_type": "code",
   "execution_count": null,
   "metadata": {},
   "outputs": [],
   "source": [
    "print \"hello world!\""
   ]
  },
  {
   "cell_type": "markdown",
   "metadata": {},
   "source": [
    "If it outputs hello world!, you are good to move onto the next section. If you are stuck here, ask for help either from a neighbour or the instructor. "
   ]
  },
  {
   "cell_type": "markdown",
   "metadata": {},
   "source": [
    "## Basic Programming\n",
    "\n",
    "If you are not familiar with python, try typing in and running the following commands to get familiar with the basics. Otherwise skip ahead to the next section 'Writing our own functions'. After entering each command press shift+enter to see the output. "
   ]
  },
  {
   "cell_type": "code",
   "execution_count": null,
   "metadata": {},
   "outputs": [],
   "source": [
    "# Addition \n",
    "1+1"
   ]
  },
  {
   "cell_type": "markdown",
   "metadata": {},
   "source": [
    "This should output 2"
   ]
  },
  {
   "cell_type": "code",
   "execution_count": null,
   "metadata": {},
   "outputs": [],
   "source": [
    "# Multiplication \n",
    "1*2"
   ]
  },
  {
   "cell_type": "code",
   "execution_count": null,
   "metadata": {},
   "outputs": [],
   "source": [
    "# Integer division (usually not recommended)\n",
    "1/2 "
   ]
  },
  {
   "cell_type": "code",
   "execution_count": null,
   "metadata": {},
   "outputs": [],
   "source": [
    "# Floating point division (recommended way to do division)\n",
    "# The decimal point tells python to use a float\n",
    "1./2"
   ]
  },
  {
   "cell_type": "code",
   "execution_count": null,
   "metadata": {},
   "outputs": [],
   "source": [
    "# Power\n",
    "2**3"
   ]
  },
  {
   "cell_type": "code",
   "execution_count": null,
   "metadata": {},
   "outputs": [],
   "source": [
    "# Assigning values to variables \n",
    "# Try playing around with different assignments\n",
    "a = 5.5\n",
    "b = 4\n",
    "c = a-b\n",
    "print c"
   ]
  },
  {
   "cell_type": "code",
   "execution_count": null,
   "metadata": {},
   "outputs": [],
   "source": [
    "# Making a list\n",
    "my_list = [1,2,3,4,5,6]\n",
    "\n",
    "# Reading the first value (lists are 0-indexed)\n",
    "my_list[0] # the number in the bracket tells what position to output"
   ]
  },
  {
   "cell_type": "code",
   "execution_count": null,
   "metadata": {},
   "outputs": [],
   "source": [
    "# Reading first 3 values, this is called slicing\n",
    "my_list[0:3]"
   ]
  },
  {
   "cell_type": "markdown",
   "metadata": {},
   "source": [
    "## Importing a library\n",
    "\n",
    "Nice! Now that we are familiar with the basics it is time to get a little more sophisticated. Remember that if there is anything you don't know how to do, you can always ask Google. For example try googling \"python squareroot\" to find out how to take a square root of a number. \n",
    "\n",
    "One of the first results is: https://www.tutorialspoint.com/python/number_sqrt.htm\n",
    "\n",
    "It tells us to try:"
   ]
  },
  {
   "cell_type": "code",
   "execution_count": null,
   "metadata": {},
   "outputs": [],
   "source": [
    "import math \n",
    "x = 4\n",
    "math.sqrt(x)"
   ]
  },
  {
   "cell_type": "markdown",
   "metadata": {},
   "source": [
    "The import statement allows us to import a library. This is convient because someone else has gone to the trouble of writing a math library which has all types of functions that you might want to use during this course. \n",
    "\n",
    "The documentation for math is here, take a look at the link to find out what other things 'math' can do:\n",
    "https://docs.python.org/2/library/math.html\n",
    "\n",
    "Other libraries we will use in this class are numpy (numeric python, good for dealing with arrays), matplotlib (a plotting tool), and scipy (scientific python). These all come with your standard anaconda installation and we will learn about them later in this tutorial. \n"
   ]
  },
  {
   "cell_type": "markdown",
   "metadata": {},
   "source": [
    "## Writing our own functions\n",
    "\n",
    "In this section we will write one function to compute the mean of a set of data and another to compute the standard deviation. \n",
    "\n",
    "One thing to remeber is that white-space matters in python. Remember to indent consistently and carefully, and make sure to start a new line at the right place. "
   ]
  },
  {
   "cell_type": "code",
   "execution_count": null,
   "metadata": {},
   "outputs": [],
   "source": [
    "\n",
    "def mean(data):\n",
    "    # this is a function to find the mean\n",
    "    L = len(data) # len is an inbuilt python function \n",
    "    m = 0\n",
    "    for i in range(0,L): # find the sum of all data points\n",
    "        m = m + data[i]\n",
    "    m = m/L\n",
    "    # a short way is: m /= L\n",
    "    # return the result for later use\n",
    "    return m\n",
    "\n",
    "def sample_std_dev(data):\n",
    "    # this is a function to find the standard deviation \n",
    "    L = len(data) \n",
    "    m = mean(data)\n",
    "    # initialise error from mean of each # data point\n",
    "    err = 0\n",
    "    for i in range(0, L):\n",
    "        err = err + (data[i] - m)**2 \n",
    "    err = math.sqrt(err / (L-1))\n",
    "    return err\n",
    "\n",
    "data = [2.2, 2.4, 2.5 ,2.6 , 2.8] # sample population\n",
    "\n",
    "mean_val = mean(data)\n",
    "std_dev_val = sample_std_dev(data)\n",
    "\n",
    "print 'The mean value is: ', mean_val\n",
    "print 'The sample standard deviation is: ', std_dev_val\n"
   ]
  },
  {
   "cell_type": "markdown",
   "metadata": {},
   "source": [
    "Okay, great, so now we know how to define our own functions. \n",
    "\n",
    "## Using Numpy \n",
    "\n",
    "We can also do this more easily using numpy. Numpy is a pre-existing library that can do a lot of things for you. Try the following code and see if it agrees with what we calculated ourselves."
   ]
  },
  {
   "cell_type": "code",
   "execution_count": null,
   "metadata": {},
   "outputs": [],
   "source": [
    "import numpy as np\n",
    "\n",
    "np_mean_val = np.mean(data)\n",
    "np_std_dev_val = np.std(data)\n",
    "\n",
    "print 'The mean value is: ', np_mean_val\n",
    "print 'The standard deviation is: ', np_std_dev_val"
   ]
  },
  {
   "cell_type": "markdown",
   "metadata": {},
   "source": [
    "Chances are that the standard deviation calculated by numpy and the one we calculated are slightly different. Why do you think this is? \n",
    "\n",
    "*Hint: think about sample population vs parent population as discussed in class*\n",
    "\n",
    "How could we change the parameters given to np.std() to give us a result that agrees with the standard deviation we calculated ourselves? \n",
    "\n",
    "Check out the Notes section in the numpy documentation on np.std() https://docs.scipy.org/doc/numpy-1.13.0/reference/generated/numpy.std.html to figure this out. "
   ]
  },
  {
   "cell_type": "markdown",
   "metadata": {},
   "source": [
    "## To Download\n",
    "\n",
    "Download falling_object.csv and challenge_data.csv from the Files/Python Tutorial folder in Canvas and make sure that it is in the same folder as your notebook is in. **It is very important that these items are in the same folder as your notebook.** \n",
    "\n",
    "## Reading a Data File\n",
    "\n",
    "Next we are going to read in a data file with numpy. First open up the 'falling_object.csv' data file and take a look at it. You will notice values that are seperated by commas (the delimiter). This is basically like an not very fancy Excel spreadsheet, with the commas seperating the columns, and the new lines seperating the rows.\n",
    "\n",
    "Here our first column denotes time and the second column is the position of a falling object. "
   ]
  },
  {
   "cell_type": "code",
   "execution_count": null,
   "metadata": {},
   "outputs": [],
   "source": [
    "# load data that we stored in .csv format\n",
    "data = np.loadtxt('falling_object.csv',delimiter=',')\n",
    "\n",
    "# take a look at how many rows and columns we have in our data\n",
    "print(data.shape)"
   ]
  },
  {
   "cell_type": "markdown",
   "metadata": {},
   "source": [
    "Next we will want to split up our data array into time and position. \n",
    "\n",
    "The syntax for \"slicing\" or splitting up your array goes as follows:\n",
    "\n",
    "$ data[rows, columns]\n",
    "\n",
    "Putting a colon into either rows or columns allows us to choose all rows or all columns:\n",
    "\n",
    "$ data[:, 0] # choose all rows, column 0\n",
    "\n",
    "$ data[0, :] # choose all columns, row 0\n",
    "\n",
    "$ data[0:5, 0] # choose first 5 rows, column 0\n",
    "\n",
    "Google, numpy slicing for more info if you are interested. "
   ]
  },
  {
   "cell_type": "code",
   "execution_count": null,
   "metadata": {},
   "outputs": [],
   "source": [
    "# Split data into time and position\n",
    "# We know that the first column is time and the second is position\n",
    "# So we slice up our data array as follows\n",
    "\n",
    "time = data[:,0]\n",
    "position = data[:,1]\n",
    "\n",
    "print \"time\"\n",
    "print time\n",
    "print \"position\"\n",
    "print position"
   ]
  },
  {
   "cell_type": "markdown",
   "metadata": {},
   "source": []
  },
  {
   "cell_type": "markdown",
   "metadata": {},
   "source": [
    "## Plotting our data\n",
    "\n",
    "Next we will make some plots using matplotlib!"
   ]
  },
  {
   "cell_type": "code",
   "execution_count": null,
   "metadata": {},
   "outputs": [],
   "source": [
    "# import packages we need to use\n",
    "%matplotlib inline\n",
    "\n",
    "import matplotlib.pyplot as plt\n",
    "\n",
    "# plot data as a scatter plot\n",
    "plt.plot(time,position,'.')\n",
    "# the '.' stands for the type of marker we are using\n",
    "# 'x','o' are other valid types of markers\n",
    "# Google \"markers matplotlib\" to find out what other types of marker you can use\n",
    "\n",
    "# always label your axes\n",
    "plt.title(\"Position of Falling Object\")\n",
    "plt.xlabel('time (second)')\n",
    "plt.ylabel('position (meter)')"
   ]
  },
  {
   "cell_type": "markdown",
   "metadata": {},
   "source": [
    "### Fitting a curve\n",
    "\n",
    "Here we are going to use scipy's curve fitting tool to extract gravity. \n"
   ]
  },
  {
   "cell_type": "code",
   "execution_count": null,
   "metadata": {},
   "outputs": [],
   "source": [
    "from scipy.optimize import curve_fit\n",
    "\n",
    "# we are going to use the curve_fit function from the scipy package \n",
    "# to fit a polynomial through the data points. \n",
    "# this will take a couple of steps\n",
    "\n",
    "# first we need to define the functional form to which to fit.\n",
    "# also known as defining a model.\n",
    "\n",
    "# IMPORTANT: it's important that time, the independent variable here,\n",
    "# be the first parameter in this function\n",
    "def free_fall_func(time, initial_vel, g, initial_pos):\n",
    "    position = time * initial_vel + g / 2.0 * time**2.0 + initial_pos\n",
    "    return position"
   ]
  },
  {
   "cell_type": "code",
   "execution_count": null,
   "metadata": {},
   "outputs": [],
   "source": [
    "# we use the curve_fit function, which we imported earlier\n",
    "# putting a question mark after a function and running the code will\n",
    "# load the docstring of the function, i.e. some documentation telling you\n",
    "# how to use it. Extremely useful.\n",
    "curve_fit?"
   ]
  },
  {
   "cell_type": "code",
   "execution_count": null,
   "metadata": {},
   "outputs": [],
   "source": [
    "# Now actually tun curve_fit\n",
    "# what do you see? Hopefully two arrays and a bunch of numbers\n",
    "curve_fit(free_fall_func, time, position)"
   ]
  },
  {
   "cell_type": "code",
   "execution_count": null,
   "metadata": {},
   "outputs": [],
   "source": [
    "# store your results in some variable\n",
    "# we are going to need it later\n",
    "params, _ = curve_fit(free_fall_func, time, position)\n",
    "print(params)\n",
    "\n",
    "# What do these parameters mean? \n",
    "# What is the acceleration, the initial velocity and initial position?\n",
    "# Does this make sense?"
   ]
  },
  {
   "cell_type": "code",
   "execution_count": null,
   "metadata": {},
   "outputs": [],
   "source": [
    "# Visualize your fitted curve\n",
    "# first, compute what the fitted curve is from all the time data points\n",
    "fitted_curve = free_fall_func(time, *params)"
   ]
  },
  {
   "cell_type": "code",
   "execution_count": null,
   "metadata": {},
   "outputs": [],
   "source": [
    "# plot data as a sactter plot\n",
    "plt.plot(time,position,'.',label = 'Data')\n",
    "\n",
    "# plot fitted curve as line\n",
    "plt.plot(time, fitted_curve,'-', label = 'Fitted curve')\n",
    "\n",
    "# label your axes and add a title\n",
    "plt.xlabel('time (second)')\n",
    "plt.ylabel('position (meter)')\n",
    "plt.title(\"Position of Falling Object\")\n",
    "plt.legend()"
   ]
  },
  {
   "cell_type": "markdown",
   "metadata": {},
   "source": [
    "### Challenge Activity\n",
    "\n",
    "Okay, we are going to try fitting a gaussian to the data in 'challenge_data.csv'. \n",
    "\n",
    "A gaussian function is a function of the form: \n",
    "\n",
    "$$ g(x) = \\frac{1}{\\sigma \\sqrt{2 \\pi}} e^{-\\frac{1}{2  \\sigma^2}({x-\\mu})^2}$$\n",
    "\n",
    "Here $\\mu$ is the mean of the Gaussian, and $\\sigma$ is the standard deviation. \n",
    "- Load data\n",
    "- Plot data \n",
    "- Estimate what the mean and standard deviation of this data set is\n",
    "- Use the curve fitting tool to fit a gaussian to the data points\n",
    "- What is the mean and standard deviation of the gaussian? \n",
    "- Plot the data + fitted curve\n",
    "- Annotate the graph with the mean and standard deviation you found with the curve fitting tool\n",
    "\n",
    "\n",
    "\n"
   ]
  },
  {
   "cell_type": "markdown",
   "metadata": {},
   "source": [
    "## Extra Documentation\n",
    "\n",
    "Matplotlib: https://matplotlib.org/index.html#\n",
    "\n",
    "Numpy Userguide:  https://docs.scipy.org/doc/numpy-dev/user/index.html\n",
    "\n",
    "Scipy Reference: http://scipy.github.io/devdocs/\n",
    "\n",
    "## Python 3 Changes\n",
    "\n",
    "If you are using python 3, note that you will need to add a bunch of brackets into the print statements. Change all print statements from\n",
    "\n",
    "print \"thing to print\"\n",
    "\n",
    "to \n",
    "\n",
    "print(\"thing to print\")"
   ]
  }
 ],
 "metadata": {
  "kernelspec": {
   "display_name": "Python 2",
   "language": "python",
   "name": "python2"
  },
  "language_info": {
   "codemirror_mode": {
    "name": "ipython",
    "version": 2
   },
   "file_extension": ".py",
   "mimetype": "text/x-python",
   "name": "python",
   "nbconvert_exporter": "python",
   "pygments_lexer": "ipython2",
   "version": "2.7.14"
  }
 },
 "nbformat": 4,
 "nbformat_minor": 2
}
